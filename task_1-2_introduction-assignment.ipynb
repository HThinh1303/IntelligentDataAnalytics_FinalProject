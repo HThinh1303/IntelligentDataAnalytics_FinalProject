{
 "cells": [
  {
   "attachments": {},
   "cell_type": "markdown",
   "metadata": {},
   "source": [
    "## 1. Giới thiệu thành viên và phân công công việc\n",
    "<hr/>"
   ]
  },
  {
   "attachments": {},
   "cell_type": "markdown",
   "metadata": {},
   "source": [
    "### 1.1. Thông tin các thành viên và phân công công việc"
   ]
  },
  {
   "attachments": {},
   "cell_type": "markdown",
   "metadata": {},
   "source": [
    "| STT       |   MSSV           | Tên                        | Email                              |         Phân công công việc       |Mức độ hoàn thành |   \n",
    "|:---------:|:----------------:|:--------------------------:|:----------------------------------:|:---------------------------------:|:----------------:|\n",
    "| 1         |  20120587        | Nguyễn Hoàng Thịnh         | 20120587@student.hcmus.edu.vn      | Làm task 1, 5, 6, 9               | 100%             |\n",
    "| 2         |  20120554        | Nguyễn Minh Quân           | 20120554@student.hcmus.edu.vn      | Làm task 5, 6, 9                  | 100%             |\n",
    "| 3         |  20120531        | Lương Văn Nam              | 20120531@student.hcmus.edu.vn      | Làm task 2, 3, 4, 9               | 100%             |\n",
    "| 4         |  20120534        | Nguyễn Minh Nghĩa          | 20120534@student.hcmus.edu.vn      | Làm task 2, 3, 4, 9               | 100%             | \n",
    "| 5         |  20120481        | Phan Xuân Hoài             | 20120481@student.hcmus.edu.vn      | Làm task 7, 8, 9                  | 100%             |\n",
    "| 6         |  20120565        | Nguyễn Tấn Sơn             | 20120565@student.hcmus.edu.vn      | Làm task 7, 8, 9                  | 100%             | "
   ]
  },
  {
   "attachments": {},
   "cell_type": "markdown",
   "metadata": {},
   "source": [
    "### 1.2. Nội dung các task"
   ]
  },
  {
   "attachments": {},
   "cell_type": "markdown",
   "metadata": {},
   "source": [
    "| STT task           |   Nội dung công việc                                                 |\n",
    "|:------------:      | :-------------------------------                                    |\n",
    "| 1                  |Giới thiệu thành viên và phân công công việc                          |\n",
    "| 2                  |Giới thiệu chung về đồ án                                             |\n",
    "| 3                  |Quá trình khám phá dữ liệu                                            |\n",
    "| 4                  |Quá trình tiền xử lý dữ liệu                                          |\n",
    "| 5                  |Quá trình tạo đặc trưng (feature engineering)                         |\n",
    "| 6                  |Xây dựng mô hình (Có thể dùng nhiều mô hình)                          |\n",
    "| 7                  |Thử nghiệm: Training, Testing, Kết quả đạt được, nhận xét và phân tích|\n",
    "| 8                  |Kết luận và hướng phát triển.                                         |\n",
    "| 9                  |Làm video ngắn (15-20p)                                               |"
   ]
  },
  {
   "attachments": {},
   "cell_type": "markdown",
   "metadata": {},
   "source": [
    "<hr/>"
   ]
  },
  {
   "attachments": {},
   "cell_type": "markdown",
   "metadata": {},
   "source": [
    "## 2. Giới thiệu chung về đồ án"
   ]
  }
 ],
 "metadata": {
  "language_info": {
   "name": "python"
  },
  "orig_nbformat": 4
 },
 "nbformat": 4,
 "nbformat_minor": 2
}
